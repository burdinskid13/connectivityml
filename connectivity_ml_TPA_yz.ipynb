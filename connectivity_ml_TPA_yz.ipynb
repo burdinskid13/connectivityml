{
 "cells": [
  {
   "cell_type": "markdown",
   "id": "628a64ea",
   "metadata": {
    "tags": []
   },
   "source": [
    "# Step 1: Import"
   ]
  },
  {
   "cell_type": "code",
   "execution_count": 11,
   "id": "7fb23bea",
   "metadata": {},
   "outputs": [],
   "source": [
    "# our core libraries\n",
    "import math\n",
    "import numpy as np\n",
    "import pandas as pd\n",
    "import matplotlib.pyplot as plt\n",
    "import seaborn as sns\n",
    "\n",
    "from sklearn.model_selection import train_test_split\n",
    "from sklearn.model_selection import cross_val_score\n",
    "from sklearn.metrics import confusion_matrix\n",
    "from sklearn.metrics import classification_report\n",
    "from sklearn.metrics import plot_confusion_matrix\n",
    "from sklearn.metrics import mean_squared_error\n",
    "\n",
    "from sklearn.pipeline import make_pipeline\n",
    "from sklearn.preprocessing import StandardScaler\n",
    "\n",
    "from sklearn import svm\n",
    "from sklearn.neighbors import KNeighborsClassifier\n",
    "from sklearn.neighbors import KNeighborsRegressor\n",
    "from sklearn.linear_model import SGDRegressor"
   ]
  },
  {
   "cell_type": "markdown",
   "id": "8230a0ad",
   "metadata": {},
   "source": [
    "# Step 2: Load data\n",
    "\n",
    "## netmats1.txt"
   ]
  },
  {
   "cell_type": "code",
   "execution_count": 12,
   "id": "4bbf055d",
   "metadata": {},
   "outputs": [
    {
     "ename": "NameError",
     "evalue": "name 'netmaps_df' is not defined",
     "output_type": "error",
     "traceback": [
      "\u001b[0;31m---------------------------------------------------------------------------\u001b[0m",
      "\u001b[0;31mNameError\u001b[0m                                 Traceback (most recent call last)",
      "\u001b[0;32m<ipython-input-12-d129d29403e2>\u001b[0m in \u001b[0;36m<module>\u001b[0;34m\u001b[0m\n\u001b[1;32m      1\u001b[0m \u001b[0mN\u001b[0m \u001b[0;34m=\u001b[0m \u001b[0;36m100\u001b[0m\u001b[0;34m\u001b[0m\u001b[0;34m\u001b[0m\u001b[0m\n\u001b[1;32m      2\u001b[0m \u001b[0mnetmats1_df\u001b[0m \u001b[0;34m=\u001b[0m \u001b[0mpd\u001b[0m\u001b[0;34m.\u001b[0m\u001b[0mread_csv\u001b[0m\u001b[0;34m(\u001b[0m\u001b[0;34m'../../data/connectivityml/HCP_PTN1200/netmats/3T_HCP1200_MSMAll_d'\u001b[0m\u001b[0;34m+\u001b[0m\u001b[0mstr\u001b[0m\u001b[0;34m(\u001b[0m\u001b[0mN\u001b[0m\u001b[0;34m)\u001b[0m\u001b[0;34m+\u001b[0m\u001b[0;34m'_ts2/netmats1.txt'\u001b[0m\u001b[0;34m,\u001b[0m \u001b[0mdelim_whitespace\u001b[0m\u001b[0;34m=\u001b[0m\u001b[0;32mTrue\u001b[0m\u001b[0;34m,\u001b[0m\u001b[0mheader\u001b[0m\u001b[0;34m=\u001b[0m\u001b[0;32mNone\u001b[0m\u001b[0;34m)\u001b[0m\u001b[0;34m\u001b[0m\u001b[0;34m\u001b[0m\u001b[0m\n\u001b[0;32m----> 3\u001b[0;31m \u001b[0mprint\u001b[0m\u001b[0;34m(\u001b[0m\u001b[0;34m\"Network-matrices data shape:\"\u001b[0m\u001b[0;34m,\u001b[0m \u001b[0mnetmaps_df\u001b[0m\u001b[0;34m.\u001b[0m\u001b[0mshape\u001b[0m\u001b[0;34m)\u001b[0m\u001b[0;34m\u001b[0m\u001b[0;34m\u001b[0m\u001b[0m\n\u001b[0m\u001b[1;32m      4\u001b[0m \u001b[0mnetmats1_df\u001b[0m\u001b[0;34m.\u001b[0m\u001b[0mhead\u001b[0m\u001b[0;34m(\u001b[0m\u001b[0;34m)\u001b[0m\u001b[0;34m\u001b[0m\u001b[0;34m\u001b[0m\u001b[0m\n",
      "\u001b[0;31mNameError\u001b[0m: name 'netmaps_df' is not defined"
     ]
    }
   ],
   "source": [
    "N = 100\n",
    "netmats1_df = pd.read_csv('../../data/connectivityml/HCP_PTN1200/netmats/3T_HCP1200_MSMAll_d'+str(N)+'_ts2/netmats1.txt', delim_whitespace=True,header=None)\n",
    "print(\"Network-matrices data shape:\", netmaps_df.shape)\n",
    "netmats1_df.head()"
   ]
  },
  {
   "cell_type": "markdown",
   "id": "faec814e",
   "metadata": {},
   "source": [
    "## netmats2.txt"
   ]
  },
  {
   "cell_type": "code",
   "execution_count": null,
   "id": "312869a5",
   "metadata": {},
   "outputs": [],
   "source": [
    "N = 100\n",
    "netmats2_df = pd.read_csv('../../data/connectivityml/HCP_PTN1200/netmats/3T_HCP1200_MSMAll_d'+str(N)+'_ts2/netmats2.txt', delim_whitespace=True,header=None)\n",
    "print(\"Network-matrices data shape:\", netmaps_df.shape)\n",
    "netmats2_df.head()"
   ]
  },
  {
   "cell_type": "markdown",
   "id": "927f96ec",
   "metadata": {},
   "source": [
    "## Some more exploratory analysis to understand netmats1 and netmats2\n",
    "\n",
    "To be updated\n",
    "\n",
    "## Behavioral data"
   ]
  },
  {
   "cell_type": "code",
   "execution_count": null,
   "id": "a69c8f14",
   "metadata": {},
   "outputs": [],
   "source": [
    "behavioral_df = pd.read_csv('../../data/connectivityml/unrestricted_pkalra_7_26_2021_17_39_25.csv')\n",
    "print(\"Behaviora data shape:\", behavioral_df.shape)\n",
    "behavioral_df.head()"
   ]
  },
  {
   "cell_type": "markdown",
   "id": "4cfa671c",
   "metadata": {},
   "source": [
    "## Subject ID"
   ]
  },
  {
   "cell_type": "code",
   "execution_count": null,
   "id": "80422b9b",
   "metadata": {},
   "outputs": [],
   "source": [
    "subjectsID_df = pd.read_csv('../../data/connectivityml/HCP_PTN1200/subjectIDs.txt',header=None,names=[\"Subject\"])\n",
    "print(\"Subjects ID data shape:\", subjectsID_df.shape)\n",
    "subjectsID_df.head()"
   ]
  },
  {
   "cell_type": "code",
   "execution_count": null,
   "id": "0ccda6c7",
   "metadata": {},
   "outputs": [],
   "source": [
    "filter_behavioral_df = subjectsID_df.merge(behavioral_df, on='Subject', how='inner')\n",
    "print(\"Filtered behaviora data shape:\", filter_behavioral_df.shape)\n",
    "filter_behavioral_df.head()"
   ]
  },
  {
   "cell_type": "markdown",
   "id": "e67da1fe",
   "metadata": {},
   "source": [
    "## Visualization"
   ]
  },
  {
   "cell_type": "code",
   "execution_count": null,
   "id": "1570e5c3",
   "metadata": {},
   "outputs": [],
   "source": [
    "filter_behavioral_df.columns"
   ]
  },
  {
   "cell_type": "markdown",
   "id": "cad9d580",
   "metadata": {},
   "source": [
    "### Histograms"
   ]
  },
  {
   "cell_type": "code",
   "execution_count": null,
   "id": "3f715529",
   "metadata": {},
   "outputs": [],
   "source": [
    "X = netmats2_df.values\n",
    "\n",
    "y_age = filter_behavioral_df.Age # Age group of Participant, banded in five-year increments\n",
    "print(\"y_age shape:\", y_age.dropna().shape)\n",
    "y_MMSE_Score = filter_behavioral_df.MMSE_Score # Cognitive Status (Mini Mental Status Exam)\n",
    "print(\"y_MMSE_Score shape:\", y_MMSE_Score.dropna().shape)\n",
    "y_PSQI_Score = filter_behavioral_df.PSQI_Score # Sleep (Pittsburgh Sleep Questionnaire)\n",
    "print(\"y_PSQI_Score shape:\", y_PSQI_Score.dropna().shape)\n",
    "\n",
    "fig, ax = plt.subplots(3,2,figsize=(20, 10))\n",
    "ax[0][0].hist(y_age)\n",
    "ax[0][0].set_title(\"Age group of Participant\")\n",
    "ax[0][0].set_xlabel(\"Age group\")\n",
    "ax[1][0].hist(y_MMSE_Score)\n",
    "ax[1][0].set_title(\"Cognitive Status (Mini Mental Status Exam)\")\n",
    "ax[1][0].set_xlabel(\"Scores\")\n",
    "ax[2][0].hist(y_PSQI_Score)\n",
    "ax[2][0].set_title(\"Sleep (Pittsburgh Sleep Questionnaire)\")\n",
    "ax[2][0].set_xlabel(\"Scores\")\n",
    "\n",
    "ax[0][1].plot(y_age)\n",
    "ax[0][1].set_title(\"Age group of Participant\")\n",
    "ax[0][1].set_xlabel(\"Subject ID\")\n",
    "ax[1][1].plot(y_MMSE_Score)\n",
    "ax[1][1].set_title(\"Cognitive Status (Mini Mental Status Exam)\")\n",
    "ax[1][1].set_xlabel(\"Subject ID\")\n",
    "ax[2][1].plot(y_PSQI_Score)\n",
    "ax[2][1].set_title(\"Sleep (Pittsburgh Sleep Questionnaire)\")\n",
    "ax[2][1].set_xlabel(\"Subject ID\")\n",
    "\n",
    "fig.tight_layout()"
   ]
  },
  {
   "cell_type": "markdown",
   "id": "1078ca39",
   "metadata": {},
   "source": [
    "### Countplots for each of our categorical variables"
   ]
  },
  {
   "cell_type": "code",
   "execution_count": null,
   "id": "70f80df2",
   "metadata": {},
   "outputs": [],
   "source": [
    "allY = [y_age,y_MMSE_Score,y_PSQI_Score]\n",
    "fig, ax = plt.subplots(1, 3, figsize=(20, 10))\n",
    "for variable, subplot in zip([0,1,2], ax.flatten()):\n",
    "    sns.countplot(x=allY[variable], ax=subplot) # specify variable x wiped out the warning messages\n",
    "    for label in subplot.get_xticklabels():\n",
    "        label.set_rotation(90)"
   ]
  },
  {
   "cell_type": "markdown",
   "id": "5f595407",
   "metadata": {},
   "source": [
    "# Step 3: Explore Machine Learning Models using scikit-learn\n",
    "\n",
    "See more [here](https://scikit-learn.org/stable/tutorial/machine_learning_map/index.html)\n",
    "\n",
    "The following are implemented:\n",
    " 1. [Linear Support Vector Classifier (LSVC)](#lsvc)\n",
    " 2. [Support Vector Classifier (SVC)](#svc)\n",
    " 3. [KNeighborsClassifier](#knc)\n",
    " 4. [Regression based on k-nearest neighbors]($rknn)\n",
    " 5. [Stochastic Gradient Descent (SGD)](#sgd)  \n",
    " ..."
   ]
  },
  {
   "cell_type": "markdown",
   "id": "0bcf2c1d",
   "metadata": {},
   "source": [
    "<a name=\"lsvc\"></a>\n",
    "## Linear Support Vector Classifier (LSVC)"
   ]
  },
  {
   "cell_type": "code",
   "execution_count": null,
   "id": "39d1a705",
   "metadata": {},
   "outputs": [],
   "source": [
    "# Code"
   ]
  },
  {
   "cell_type": "markdown",
   "id": "143661d6-a966-4378-9dc8-37251209aa3f",
   "metadata": {},
   "source": [
    "<a name=\"svc\"></a>\n",
    "## Support Vector Classifier (LSVC)"
   ]
  },
  {
   "cell_type": "code",
   "execution_count": 11,
   "id": "74338b7e-df14-4b02-b647-8d1927c38cc7",
   "metadata": {},
   "outputs": [],
   "source": [
    "# Code"
   ]
  },
  {
   "cell_type": "markdown",
   "id": "0c54732a-fa08-493c-afd2-1094105f0caf",
   "metadata": {},
   "source": [
    "<a name=\"knc\"></a>\n",
    "## KNeighborsClassifier"
   ]
  },
  {
   "cell_type": "code",
   "execution_count": 12,
   "id": "de0cc447-f2f5-4473-9db4-6783d4510f32",
   "metadata": {},
   "outputs": [],
   "source": [
    "# Code"
   ]
  },
  {
   "cell_type": "markdown",
   "id": "43006cb1-4de1-4476-beb0-34c856dfb090",
   "metadata": {},
   "source": [
    "<a name=\"rknn\"></a>\n",
    "## Regression based on k-nearest neighbors"
   ]
  },
  {
   "cell_type": "code",
   "execution_count": 13,
   "id": "1e93a4ce-ed34-4810-8a77-373aa89b607b",
   "metadata": {},
   "outputs": [],
   "source": [
    "# Code"
   ]
  },
  {
   "cell_type": "markdown",
   "id": "d4fdfc1e-dc14-4a41-a0fe-af777c4b0a3b",
   "metadata": {},
   "source": [
    "<a name=\"sgd\"></a>\n",
    "## Stochastic Gradient Descent (SGD)"
   ]
  },
  {
   "cell_type": "code",
   "execution_count": 14,
   "id": "18c2c183-2b3a-4cb7-a8a5-39bfb69683e5",
   "metadata": {},
   "outputs": [],
   "source": [
    "# Code"
   ]
  },
  {
   "cell_type": "markdown",
   "id": "257c6a2a-a7a6-4632-aa15-c9a7fe6c881c",
   "metadata": {},
   "source": [
    "### ... and more"
   ]
  },
  {
   "cell_type": "code",
   "execution_count": null,
   "id": "be529976-02d9-45ea-9437-d8fc02fa4345",
   "metadata": {},
   "outputs": [],
   "source": []
  }
 ],
 "metadata": {
  "kernelspec": {
   "display_name": "Python 3",
   "language": "python",
   "name": "python3"
  },
  "language_info": {
   "codemirror_mode": {
    "name": "ipython",
    "version": 3
   },
   "file_extension": ".py",
   "mimetype": "text/x-python",
   "name": "python",
   "nbconvert_exporter": "python",
   "pygments_lexer": "ipython3",
   "version": "3.8.10"
  }
 },
 "nbformat": 4,
 "nbformat_minor": 5
}
